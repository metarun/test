{
  "nbformat": 4,
  "nbformat_minor": 0,
  "metadata": {
    "colab": {
      "name": "nifty50.ipynb",
      "provenance": [],
      "authorship_tag": "ABX9TyMvRkN2C1TBAdAF4PwORYNo",
      "include_colab_link": true
    },
    "kernelspec": {
      "name": "python3",
      "display_name": "Python 3"
    }
  },
  "cells": [
    {
      "cell_type": "markdown",
      "metadata": {
        "id": "view-in-github",
        "colab_type": "text"
      },
      "source": [
        "<a href=\"https://colab.research.google.com/github/metarun/test/blob/master/nifty50.ipynb\" target=\"_parent\"><img src=\"https://colab.research.google.com/assets/colab-badge.svg\" alt=\"Open In Colab\"/></a>"
      ]
    },
    {
      "cell_type": "code",
      "metadata": {
        "id": "JFYVQtJKj4S7"
      },
      "source": [
        "import pandas as pd\n",
        "import numpy as np\n",
        "import plotly.express as px\n",
        "from plotly.subplots import make_subplots\n",
        "import yahoo_fin.stock_info as si"
      ],
      "execution_count": 2,
      "outputs": []
    },
    {
      "cell_type": "code",
      "metadata": {
        "id": "LBQMdGI1sGWD"
      },
      "source": [
        "nifty10 = pd.read_csv('nifty10.csv')"
      ],
      "execution_count": 29,
      "outputs": []
    },
    {
      "cell_type": "code",
      "metadata": {
        "id": "rURmC2vYs3um"
      },
      "source": [
        "nifty10['Symbols']"
      ],
      "execution_count": null,
      "outputs": []
    },
    {
      "cell_type": "code",
      "metadata": {
        "id": "-xb8X93QtDaZ"
      },
      "source": [
        "for symbol in nifty10['Symbols']:\n",
        "      filename = symbol.strip('.NS') #removing .NS and creating a file name so that I can use symbol as filename\n",
        "      filename = si.get_data(symbol)\n",
        "\n",
        "#End goal is to have 5 files/dataframes naming ADANIPORTS, ASIANPAINT,AXISBANK,BAJAJAUTO,BAJAJFINSV with values, as of now only \n",
        "#1 file is getting created with name as filename with values for BAJAJFINSV, since its last run\n"
      ],
      "execution_count": null,
      "outputs": []
    },
    {
      "cell_type": "code",
      "metadata": {
        "id": "__t6dKmYtiae"
      },
      "source": [
        ""
      ],
      "execution_count": null,
      "outputs": []
    }
  ]
}