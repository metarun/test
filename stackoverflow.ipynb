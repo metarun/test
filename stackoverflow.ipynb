{
  "nbformat": 4,
  "nbformat_minor": 0,
  "metadata": {
    "colab": {
      "name": "stackoverflow.ipynb",
      "provenance": [],
      "authorship_tag": "ABX9TyNyTC9R1PCZ9l2p+o/e5mBI",
      "include_colab_link": true
    },
    "kernelspec": {
      "name": "python3",
      "display_name": "Python 3"
    }
  },
  "cells": [
    {
      "cell_type": "markdown",
      "metadata": {
        "id": "view-in-github",
        "colab_type": "text"
      },
      "source": [
        "<a href=\"https://colab.research.google.com/github/metarun/test/blob/master/stackoverflow.ipynb\" target=\"_parent\"><img src=\"https://colab.research.google.com/assets/colab-badge.svg\" alt=\"Open In Colab\"/></a>"
      ]
    },
    {
      "cell_type": "code",
      "metadata": {
        "id": "Iqygl7TVADcl"
      },
      "source": [
        "pip install pip install yahoo_fin\n",
        "import pandas as pd\n",
        "import plotly.express as px\n",
        "import yahoo_fin.stock_info as si\n",
        "data = {'Symbols':  ['ADANIPORTS.NS','ASIANPAINT.NS','AXISBANK.NS','BAJAJ-AUTO.NS','BAJAJFINSV.NS','BAJFINANCE.NS','BHARTIARTL.NS','TCS.NS']}\n",
        "nifty10= pd.DataFrame(data)\n",
        "nifty10['Symbols']\n",
        "for symbol in nifty10['Symbols']:\n",
        "      filename = symbol.strip('.NS') #removing .NS and creating a file name so that I can use symbol as filename\n",
        "      filename = si.get_data(symbol)"
      ],
      "execution_count": null,
      "outputs": []
    },
    {
      "cell_type": "code",
      "metadata": {
        "id": "aD84LMvWAD-W"
      },
      "source": [
        ""
      ],
      "execution_count": null,
      "outputs": []
    },
    {
      "cell_type": "code",
      "metadata": {
        "id": "ytOb1-vjA526"
      },
      "source": [
        ""
      ],
      "execution_count": null,
      "outputs": []
    },
    {
      "cell_type": "code",
      "metadata": {
        "id": "gEPK3sf4BJXL"
      },
      "source": [
        ""
      ],
      "execution_count": null,
      "outputs": []
    }
  ]
}